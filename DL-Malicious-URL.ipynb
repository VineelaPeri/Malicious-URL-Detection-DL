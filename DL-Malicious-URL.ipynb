{
 "cells": [
  {
   "cell_type": "code",
   "execution_count": 100,
   "metadata": {
    "collapsed": true
   },
   "outputs": [],
   "source": [
    "# Load Libraries - Make sure to run this cell!\n",
    "import pandas as pd\n",
    "import numpy as np\n",
    "import re, os\n",
    "from string import printable\n",
    "from sklearn import model_selection\n",
    "\n",
    "#import gensim\n",
    "import tensorflow as tf\n",
    "from keras.models import Sequential, Model, model_from_json, load_model\n",
    "from keras import regularizers\n",
    "from keras.layers.core import Dense, Dropout, Activation, Lambda, Flatten\n",
    "from keras.layers import merge\n",
    "from keras.layers import Input, ELU, LSTM, Embedding, Convolution2D, MaxPooling2D, \\\n",
    "BatchNormalization, Convolution1D, MaxPooling1D, concatenate, merge\n",
    "from keras.preprocessing import sequence\n",
    "from keras.optimizers import SGD, Adam, RMSprop\n",
    "from keras.utils import np_utils\n",
    "from keras import initializers\n",
    "from keras import backend as K\n",
    "tf.python.control_flow_ops = tf\n",
    "from pathlib import Path\n",
    "import json\n",
    "\n",
    "import warnings\n",
    "warnings.filterwarnings(\"ignore\")"
   ]
  },
  {
   "cell_type": "code",
   "execution_count": 101,
   "metadata": {},
   "outputs": [
    {
     "data": {
      "text/html": [
       "<div>\n",
       "<style>\n",
       "    .dataframe thead tr:only-child th {\n",
       "        text-align: right;\n",
       "    }\n",
       "\n",
       "    .dataframe thead th {\n",
       "        text-align: left;\n",
       "    }\n",
       "\n",
       "    .dataframe tbody tr th {\n",
       "        vertical-align: top;\n",
       "    }\n",
       "</style>\n",
       "<table border=\"1\" class=\"dataframe\">\n",
       "  <thead>\n",
       "    <tr style=\"text-align: right;\">\n",
       "      <th></th>\n",
       "      <th>url</th>\n",
       "      <th>malicious</th>\n",
       "    </tr>\n",
       "  </thead>\n",
       "  <tbody>\n",
       "    <tr>\n",
       "      <th>0</th>\n",
       "      <td>http://www.facebook-log1in.com/</td>\n",
       "      <td>1</td>\n",
       "    </tr>\n",
       "    <tr>\n",
       "      <th>1</th>\n",
       "      <td>http://getir.net/yg4t</td>\n",
       "      <td>1</td>\n",
       "    </tr>\n",
       "    <tr>\n",
       "      <th>2</th>\n",
       "      <td>http://crosscitydental.com/</td>\n",
       "      <td>0</td>\n",
       "    </tr>\n",
       "    <tr>\n",
       "      <th>3</th>\n",
       "      <td>http://www.tenttrails.com/jscripts/product.js</td>\n",
       "      <td>0</td>\n",
       "    </tr>\n",
       "    <tr>\n",
       "      <th>4</th>\n",
       "      <td>http://103.224.193.105/</td>\n",
       "      <td>0</td>\n",
       "    </tr>\n",
       "  </tbody>\n",
       "</table>\n",
       "</div>"
      ],
      "text/plain": [
       "                                             url  malicious\n",
       "0                http://www.facebook-log1in.com/          1\n",
       "1                          http://getir.net/yg4t          1\n",
       "2                    http://crosscitydental.com/          0\n",
       "3  http://www.tenttrails.com/jscripts/product.js          0\n",
       "4                        http://103.224.193.105/          0"
      ]
     },
     "execution_count": 101,
     "metadata": {},
     "output_type": "execute_result"
    }
   ],
   "source": [
    "from urllib.parse import urlparse\n",
    "\n",
    "%matplotlib inline\n",
    "cwd = os.getcwd()#To access the path of current working directory\n",
    "path=cwd+\"/\"+\"data\"+\"/\"\n",
    "data=pd.read_csv(path +\"sample_10.csv\")\n",
    "data.head()\n",
    "df=data\n",
    "df.head()\n"
   ]
  },
  {
   "cell_type": "markdown",
   "metadata": {},
   "source": [
    "### Preprocessing Raw URLs\n"
   ]
  },
  {
   "cell_type": "code",
   "execution_count": 102,
   "metadata": {},
   "outputs": [
    {
     "name": "stdout",
     "output_type": "stream",
     "text": [
      "[[ 0  0  0 ..., 25 23 77]\n",
      " [ 0  0  0 ..., 17  5 30]\n",
      " [ 0  0  0 ..., 25 23 77]\n",
      " ..., \n",
      " [ 0  0  0 ..., 25 23 77]\n",
      " [ 0  0  0 ..., 27 31 77]\n",
      " [ 0  0  0 ..., 25 30 83]]\n",
      "Matrix dimensions of X:  (9998, 75) Vector dimension of target:  (9998,)\n"
     ]
    }
   ],
   "source": [
    "# Initial Data Preparation URL\n",
    "\n",
    "# Step 1: Convert raw URL string in list of lists where characters that are contained in \"printable\" are stored encoded as integer \n",
    "url_int_tokens = [[printable.index(x) + 1 for x in url if x in printable] for url in df.url]\n",
    "\n",
    "# Step 2: Cut URL string at max_len or pad with zeros if shorter\n",
    "max_len=75\n",
    "X = sequence.pad_sequences(url_int_tokens, maxlen=max_len)\n",
    "print(X)\n",
    "# Step 3: Extract labels form df to numpy array\n",
    "target = np.array(df.malicious)\n",
    "\n",
    "print('Matrix dimensions of X: ', X.shape, 'Vector dimension of target: ', target.shape)"
   ]
  },
  {
   "cell_type": "code",
   "execution_count": 126,
   "metadata": {
    "collapsed": true
   },
   "outputs": [],
   "source": [
    "# GENERAL get layer dimensions for any model!\n",
    "def print_layers_dims(model):\n",
    "    l_layers = model.layers\n",
    "    # Note None is ALWAYS batch_size\n",
    "    for i in range(len(l_layers)):\n",
    "        print(l_layers[i])\n",
    "        print('Input Shape: ', l_layers[i].input_shape, 'Output Shape: ', l_layers[i].output_shape)\n"
   ]
  },
  {
   "cell_type": "markdown",
   "metadata": {},
   "source": [
    "### Training and Evaluation\n"
   ]
  },
  {
   "cell_type": "code",
   "execution_count": 127,
   "metadata": {
    "collapsed": true
   },
   "outputs": [],
   "source": [
    "# Simple Cross-Validation: Split the data set into training and test data\n",
    "X_train, X_test, target_train, target_test = model_selection.train_test_split(X, target, test_size=0.25, random_state=33)"
   ]
  },
  {
   "cell_type": "markdown",
   "metadata": {},
   "source": [
    "#### Simple LSTM\n",
    "Model features\n",
    "1. LSTM \n",
    "2. Activation function :Sigmoid. \n",
    "3. Loss Function binary_crossentropy\n",
    "4. number of Epochs 5"
   ]
  },
  {
   "cell_type": "code",
   "execution_count": 107,
   "metadata": {
    "collapsed": true
   },
   "outputs": [],
   "source": [
    "## Simple LSTM\n",
    "def simple_lstm(max_len=75, emb_dim=32, max_vocab_len=100, lstm_output_size=32, W_reg=regularizers.l2(1e-4)):\n",
    "    # Input\n",
    "    main_input = Input(shape=(max_len,), dtype='int32', name='main_input')\n",
    "    # Embedding layer\n",
    "    emb = Embedding(input_dim=max_vocab_len, output_dim=emb_dim, input_length=max_len,\n",
    "                dropout=0.2, W_regularizer=W_reg)(main_input) \n",
    "\n",
    "    # LSTM layer\n",
    "    lstm = LSTM(lstm_output_size)(emb)\n",
    "    lstm = Dropout(0.5)(lstm)\n",
    "    \n",
    "    # Output layer (last fully connected layer)\n",
    "    output = Dense(1, activation='sigmoid', name='output')(lstm)\n",
    "\n",
    "    # Compile model and define optimizer\n",
    "    model = Model(input=[main_input], output=[output])\n",
    "    \n",
    "    sgd= SGD(lr=0.01, momentum=0.0, decay=0.0, nesterov=False)\n",
    "    \n",
    "    adam = Adam(lr=1e-4, beta_1=0.9, beta_2=0.999, epsilon=1e-08, decay=0.0)\n",
    "    model.compile(optimizer=adam, loss='binary_crossentropy', metrics=['accuracy'])\n",
    "    #model.compile(optimizer=sgd, loss='binary_crossentropy', metrics=['accuracy'])\n",
    "    return model"
   ]
  },
  {
   "cell_type": "code",
   "execution_count": 108,
   "metadata": {},
   "outputs": [
    {
     "name": "stdout",
     "output_type": "stream",
     "text": [
      "Epoch 1/5\n",
      "7498/7498 [==============================] - 35s 5ms/step - loss: 0.6403 - acc: 0.7341\n",
      "Epoch 2/5\n",
      "7498/7498 [==============================] - 33s 4ms/step - loss: 0.5265 - acc: 0.7559\n",
      "Epoch 3/5\n",
      "7498/7498 [==============================] - 34s 4ms/step - loss: 0.4855 - acc: 0.7630\n",
      "Epoch 4/5\n",
      "7498/7498 [==============================] - 33s 4ms/step - loss: 0.4534 - acc: 0.7847\n",
      "Epoch 5/5\n",
      "7498/7498 [==============================] - 33s 4ms/step - loss: 0.4348 - acc: 0.8026\n",
      "2500/2500 [==============================] - 3s 1ms/step\n",
      "\n",
      "Final Cross-Validation Accuracy 0.8088 \n",
      "\n",
      "<keras.engine.topology.InputLayer object at 0x125a09e80>\n",
      "Input Shape:  (None, 75) Output Shape:  (None, 75)\n",
      "<keras.layers.embeddings.Embedding object at 0x125a09f60>\n",
      "Input Shape:  (None, 75) Output Shape:  (None, 75, 32)\n",
      "<keras.layers.recurrent.LSTM object at 0x125a09f28>\n",
      "Input Shape:  (None, 75, 32) Output Shape:  (None, 32)\n",
      "<keras.layers.core.Dropout object at 0x125a285f8>\n",
      "Input Shape:  (None, 32) Output Shape:  (None, 32)\n",
      "<keras.layers.core.Dense object at 0x125a289b0>\n",
      "Input Shape:  (None, 32) Output Shape:  (None, 1)\n"
     ]
    }
   ],
   "source": [
    "# Fit model and Cross-Validation, ARCHITECTURE 1 SIMPLE LSTM\n",
    "nb_epoch = 5\n",
    "batch_size = 32\n",
    "\n",
    "model = simple_lstm()\n",
    "model.fit(X_train, target_train, nb_epoch=nb_epoch, batch_size=batch_size)\n",
    "loss, accuracy = model.evaluate(X_test, target_test, verbose=1)\n",
    "print('\\nFinal Cross-Validation Accuracy', accuracy, '\\n')\n",
    "print_layers_dims(model)"
   ]
  },
  {
   "cell_type": "markdown",
   "metadata": {
    "collapsed": true
   },
   "source": [
    "### With inputs from Professor used a fully connected CNN "
   ]
  },
  {
   "cell_type": "code",
   "execution_count": 109,
   "metadata": {
    "collapsed": true
   },
   "outputs": [],
   "source": [
    "def conv_fully(max_len=75, emb_dim=32, max_vocab_len=100, W_reg=regularizers.l2(1e-4)):\n",
    "    # Input\n",
    "    main_input = Input(shape=(max_len,), dtype='int32', name='main_input')\n",
    "    # Embedding layer\n",
    "    emb = Embedding(input_dim=max_vocab_len, output_dim=emb_dim, input_length=max_len,\n",
    "                W_regularizer=W_reg)(main_input) \n",
    "    emb = Dropout(0.25)(emb)\n",
    "\n",
    "    \n",
    "    def sum_1d(X):\n",
    "        return K.sum(X, axis=1)\n",
    "    \n",
    "    def get_conv_layer(emb, kernel_size=5, filters=256):\n",
    "        # Conv layer\n",
    "        conv = Convolution1D(kernel_size=kernel_size, filters=filters, \\\n",
    "                     border_mode='same')(emb)\n",
    "        conv = ELU()(conv)\n",
    "\n",
    "        conv = Lambda(sum_1d, output_shape=(filters,))(conv)\n",
    "        #conv = BatchNormalization(mode=0)(conv)\n",
    "        conv = Dropout(0.5)(conv)\n",
    "        return conv\n",
    "        \n",
    "    # Multiple Conv Layers\n",
    "    \n",
    "    # calling custom conv function from above\n",
    "    conv1 = get_conv_layer(emb, kernel_size=2, filters=256)\n",
    "    conv2 = get_conv_layer(emb, kernel_size=3, filters=256)\n",
    "    conv3 = get_conv_layer(emb, kernel_size=4, filters=256)\n",
    "    conv4 = get_conv_layer(emb, kernel_size=5, filters=256)\n",
    "\n",
    "    # Fully Connected Layers\n",
    "    merged = concatenate([conv1,conv2,conv3,conv4], axis=1)\n",
    "\n",
    "    hidden1 = Dense(1024)(merged)\n",
    "    hidden1 = ELU()(hidden1)\n",
    "    hidden1 = BatchNormalization(mode=0)(hidden1)\n",
    "    hidden1 = Dropout(0.5)(hidden1)\n",
    "\n",
    "    hidden2 = Dense(1024)(hidden1)\n",
    "    hidden2 = ELU()(hidden2)\n",
    "    hidden2 = BatchNormalization(mode=0)(hidden2)\n",
    "    hidden2 = Dropout(0.5)(hidden2)\n",
    "    \n",
    "    # Output layer (last fully connected layer)\n",
    "    output = Dense(1, activation='sigmoid', name='output')(hidden2)\n",
    "\n",
    "    # Compile model and define optimizer\n",
    "    model = Model(input=[main_input], output=[output])\n",
    "    adam = Adam(lr=1e-4, beta_1=0.9, beta_2=0.999, epsilon=1e-08, decay=0.0)\n",
    "    model.compile(optimizer=adam, loss='binary_crossentropy', metrics=['accuracy'])\n",
    "    return model"
   ]
  },
  {
   "cell_type": "markdown",
   "metadata": {},
   "source": [
    "### Model Characteristics\n",
    "1. 4 Fully connected layers. \n",
    "2. Activation function used is sigmoid. \n",
    "3. Optimizer in used is Adam\n",
    "4. Loss function in use Binary Cross entropy. \n",
    "5. With  5 Epocs and a batch size of 32  is Final Cross-Validation Accuracy 0.81349206633 "
   ]
  },
  {
   "cell_type": "code",
   "execution_count": 110,
   "metadata": {},
   "outputs": [
    {
     "name": "stdout",
     "output_type": "stream",
     "text": [
      "Epoch 1/5\n",
      "7498/7498 [==============================] - 19s 3ms/step - loss: 0.8402 - acc: 0.5910\n",
      "Epoch 2/5\n",
      "7498/7498 [==============================] - 18s 2ms/step - loss: 0.6775 - acc: 0.6771\n",
      "Epoch 3/5\n",
      "7498/7498 [==============================] - 18s 2ms/step - loss: 0.6026 - acc: 0.7238\n",
      "Epoch 4/5\n",
      "7498/7498 [==============================] - 20s 3ms/step - loss: 0.5804 - acc: 0.7457\n",
      "Epoch 5/5\n",
      "7498/7498 [==============================] - 19s 2ms/step - loss: 0.5563 - acc: 0.7555\n",
      "2500/2500 [==============================] - 2s 921us/step\n",
      "\n",
      "Final Cross-Validation Accuracy 0.8124 \n",
      "\n",
      "<keras.engine.topology.InputLayer object at 0x13ffb2c50>\n",
      "Input Shape:  (None, 75) Output Shape:  (None, 75)\n",
      "<keras.layers.embeddings.Embedding object at 0x13ffb2be0>\n",
      "Input Shape:  (None, 75) Output Shape:  (None, 75, 32)\n",
      "<keras.layers.core.Dropout object at 0x13ffb2cc0>\n",
      "Input Shape:  (None, 75, 32) Output Shape:  (None, 75, 32)\n",
      "<keras.layers.convolutional.Conv1D object at 0x13ffb2b38>\n",
      "Input Shape:  (None, 75, 32) Output Shape:  (None, 75, 256)\n",
      "<keras.layers.convolutional.Conv1D object at 0x140852e10>\n",
      "Input Shape:  (None, 75, 32) Output Shape:  (None, 75, 256)\n",
      "<keras.layers.convolutional.Conv1D object at 0x14043ac50>\n",
      "Input Shape:  (None, 75, 32) Output Shape:  (None, 75, 256)\n",
      "<keras.layers.convolutional.Conv1D object at 0x1282f9b00>\n",
      "Input Shape:  (None, 75, 32) Output Shape:  (None, 75, 256)\n",
      "<keras.layers.advanced_activations.ELU object at 0x13ffb2ac8>\n",
      "Input Shape:  (None, 75, 256) Output Shape:  (None, 75, 256)\n",
      "<keras.layers.advanced_activations.ELU object at 0x1408683c8>\n",
      "Input Shape:  (None, 75, 256) Output Shape:  (None, 75, 256)\n",
      "<keras.layers.advanced_activations.ELU object at 0x1406be7f0>\n",
      "Input Shape:  (None, 75, 256) Output Shape:  (None, 75, 256)\n",
      "<keras.layers.advanced_activations.ELU object at 0x12830fd30>\n",
      "Input Shape:  (None, 75, 256) Output Shape:  (None, 75, 256)\n",
      "<keras.layers.core.Lambda object at 0x140841978>\n",
      "Input Shape:  (None, 75, 256) Output Shape:  (None, 256)\n",
      "<keras.layers.core.Lambda object at 0x140421e10>\n",
      "Input Shape:  (None, 75, 256) Output Shape:  (None, 256)\n",
      "<keras.layers.core.Lambda object at 0x1406e98d0>\n",
      "Input Shape:  (None, 75, 256) Output Shape:  (None, 256)\n",
      "<keras.layers.core.Lambda object at 0x12dba86a0>\n",
      "Input Shape:  (None, 75, 256) Output Shape:  (None, 256)\n",
      "<keras.layers.core.Dropout object at 0x1408527f0>\n",
      "Input Shape:  (None, 256) Output Shape:  (None, 256)\n",
      "<keras.layers.core.Dropout object at 0x14043a978>\n",
      "Input Shape:  (None, 256) Output Shape:  (None, 256)\n",
      "<keras.layers.core.Dropout object at 0x1282f9dd8>\n",
      "Input Shape:  (None, 256) Output Shape:  (None, 256)\n",
      "<keras.layers.core.Dropout object at 0x12dbbbe48>\n",
      "Input Shape:  (None, 256) Output Shape:  (None, 256)\n",
      "<keras.layers.merge.Concatenate object at 0x12dbbbf60>\n",
      "Input Shape:  [(None, 256), (None, 256), (None, 256), (None, 256)] Output Shape:  (None, 1024)\n",
      "<keras.layers.core.Dense object at 0x12dbbbfd0>\n",
      "Input Shape:  (None, 1024) Output Shape:  (None, 1024)\n",
      "<keras.layers.advanced_activations.ELU object at 0x12dbe4908>\n",
      "Input Shape:  (None, 1024) Output Shape:  (None, 1024)\n",
      "<keras.layers.normalization.BatchNormalization object at 0x12dbfab70>\n",
      "Input Shape:  (None, 1024) Output Shape:  (None, 1024)\n",
      "<keras.layers.core.Dropout object at 0x12dc0fdd8>\n",
      "Input Shape:  (None, 1024) Output Shape:  (None, 1024)\n",
      "<keras.layers.core.Dense object at 0x12dc0ff28>\n",
      "Input Shape:  (None, 1024) Output Shape:  (None, 1024)\n",
      "<keras.layers.advanced_activations.ELU object at 0x1397afdd8>\n",
      "Input Shape:  (None, 1024) Output Shape:  (None, 1024)\n",
      "<keras.layers.normalization.BatchNormalization object at 0x1397d7cc0>\n",
      "Input Shape:  (None, 1024) Output Shape:  (None, 1024)\n",
      "<keras.layers.core.Dropout object at 0x139807e48>\n",
      "Input Shape:  (None, 1024) Output Shape:  (None, 1024)\n",
      "<keras.layers.core.Dense object at 0x139807f98>\n",
      "Input Shape:  (None, 1024) Output Shape:  (None, 1)\n"
     ]
    }
   ],
   "source": [
    "# Fit model and Cross-Validation, ARCHITECTURE 3 CONV + FULLY CONNECTED\n",
    "epochs = 5\n",
    "batch_size = 32\n",
    "\n",
    "model = conv_fully()\n",
    "model.fit(X_train, target_train, epochs=epochs, batch_size=batch_size)\n",
    "loss, accuracy = model.evaluate(X_test, target_test, verbose=1)\n",
    "\n",
    "print('\\nFinal Cross-Validation Accuracy', accuracy, '\\n')\n",
    "print_layers_dims(model)"
   ]
  },
  {
   "cell_type": "code",
   "execution_count": 67,
   "metadata": {
    "collapsed": true
   },
   "outputs": [],
   "source": [
    "# GENERAL save model to disk function!\n",
    "def save_model(fileModelJSON,fileWeights):\n",
    "    #print(\"Saving model to disk: \",fileModelJSON,\"and\",fileWeights)\n",
    "    #have h5py installed\n",
    "    if Path(fileModelJSON).is_file():\n",
    "        os.remove(fileModelJSON)\n",
    "    json_string = model.to_json()\n",
    "    with open(fileModelJSON,'w' ) as f:\n",
    "        json.dump(json_string, f)\n",
    "    if Path(fileWeights).is_file():\n",
    "        os.remove(fileWeights)\n",
    "    model.save_weights(fileWeights)\n",
    "    "
   ]
  },
  {
   "cell_type": "code",
   "execution_count": null,
   "metadata": {
    "collapsed": true
   },
   "outputs": [],
   "source": [
    "model_name = \"deeplearning_1DConv\"\n",
    "save_model(path + model_name + \".json\", path + model_name + \".h5\")\n",
    "#model = load_model(path + model_name + \".json\", path + model_name + \".h5\")\n",
    "print_layers_dims(model)"
   ]
  }
 ],
 "metadata": {
  "kernelspec": {
   "display_name": "Python 3",
   "language": "python",
   "name": "python3"
  },
  "language_info": {
   "codemirror_mode": {
    "name": "ipython",
    "version": 3
   },
   "file_extension": ".py",
   "mimetype": "text/x-python",
   "name": "python",
   "nbconvert_exporter": "python",
   "pygments_lexer": "ipython3",
   "version": "3.6.1"
  }
 },
 "nbformat": 4,
 "nbformat_minor": 2
}
