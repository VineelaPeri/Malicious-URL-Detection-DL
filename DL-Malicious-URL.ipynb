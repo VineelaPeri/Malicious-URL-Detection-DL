{
 "cells": [
  {
   "cell_type": "markdown",
   "metadata": {},
   "source": [
    "## Detection and Classification of Malicious URLS with Deep Learning"
   ]
  },
  {
   "cell_type": "code",
   "execution_count": 1,
   "metadata": {},
   "outputs": [
    {
     "name": "stderr",
     "output_type": "stream",
     "text": [
      "Using TensorFlow backend.\n"
     ]
    }
   ],
   "source": [
    "# Load Libraries - Make sure to run this cell!\n",
    "import pandas as pd\n",
    "import numpy as np\n",
    "import re, os\n",
    "from string import printable\n",
    "from sklearn import model_selection\n",
    "import matplotlib\n",
    "from matplotlib import pylab as plt\n",
    "#import gensim\n",
    "import tensorflow as tf\n",
    "from keras.models import Sequential, Model, model_from_json, load_model\n",
    "from keras import regularizers\n",
    "from keras.layers.core import Dense, Dropout, Activation, Lambda, Flatten\n",
    "from keras.layers import merge\n",
    "from keras.layers import Input, ELU, LSTM, Embedding, Convolution2D, MaxPooling2D, \\\n",
    "BatchNormalization, Convolution1D, MaxPooling1D, concatenate, merge, Conv1D\n",
    "from keras.layers import TimeDistributed, Bidirectional\n",
    "from keras.preprocessing import sequence\n",
    "from keras.optimizers import SGD, Adam, RMSprop\n",
    "from keras.utils import np_utils\n",
    "from keras import initializers\n",
    "from keras import backend as K\n",
    "tf.python.control_flow_ops = tf\n",
    "from pathlib import Path\n",
    "import json\n",
    "from sklearn.metrics import confusion_matrix\n",
    "import warnings\n",
    "warnings.filterwarnings(\"ignore\")"
   ]
  },
  {
   "cell_type": "code",
   "execution_count": 2,
   "metadata": {},
   "outputs": [
    {
     "data": {
      "text/html": [
       "<div>\n",
       "<style>\n",
       "    .dataframe thead tr:only-child th {\n",
       "        text-align: right;\n",
       "    }\n",
       "\n",
       "    .dataframe thead th {\n",
       "        text-align: left;\n",
       "    }\n",
       "\n",
       "    .dataframe tbody tr th {\n",
       "        vertical-align: top;\n",
       "    }\n",
       "</style>\n",
       "<table border=\"1\" class=\"dataframe\">\n",
       "  <thead>\n",
       "    <tr style=\"text-align: right;\">\n",
       "      <th></th>\n",
       "      <th>url</th>\n",
       "      <th>malicious</th>\n",
       "    </tr>\n",
       "  </thead>\n",
       "  <tbody>\n",
       "    <tr>\n",
       "      <th>0</th>\n",
       "      <td>http://www.facebook-log1in.com/</td>\n",
       "      <td>1</td>\n",
       "    </tr>\n",
       "    <tr>\n",
       "      <th>1</th>\n",
       "      <td>http://getir.net/yg4t</td>\n",
       "      <td>1</td>\n",
       "    </tr>\n",
       "    <tr>\n",
       "      <th>2</th>\n",
       "      <td>http://crosscitydental.com/</td>\n",
       "      <td>0</td>\n",
       "    </tr>\n",
       "    <tr>\n",
       "      <th>3</th>\n",
       "      <td>http://www.tenttrails.com/jscripts/product.js</td>\n",
       "      <td>0</td>\n",
       "    </tr>\n",
       "    <tr>\n",
       "      <th>4</th>\n",
       "      <td>http://103.224.193.105/</td>\n",
       "      <td>0</td>\n",
       "    </tr>\n",
       "  </tbody>\n",
       "</table>\n",
       "</div>"
      ],
      "text/plain": [
       "                                             url  malicious\n",
       "0                http://www.facebook-log1in.com/          1\n",
       "1                          http://getir.net/yg4t          1\n",
       "2                    http://crosscitydental.com/          0\n",
       "3  http://www.tenttrails.com/jscripts/product.js          0\n",
       "4                        http://103.224.193.105/          0"
      ]
     },
     "execution_count": 2,
     "metadata": {},
     "output_type": "execute_result"
    }
   ],
   "source": [
    "from urllib.parse import urlparse\n",
    "\n",
    "%matplotlib inline\n",
    "cwd = os.getcwd()#To access the path of current working directory\n",
    "path=cwd+\"/\"+\"data\"+\"/\"\n",
    "data=pd.read_csv(path +\"sample_10.csv\")\n",
    "data.head()\n",
    "df=data\n",
    "df.head()\n"
   ]
  },
  {
   "cell_type": "markdown",
   "metadata": {},
   "source": [
    "### Preprocessing Raw URLs\n"
   ]
  },
  {
   "cell_type": "code",
   "execution_count": 3,
   "metadata": {},
   "outputs": [
    {
     "name": "stdout",
     "output_type": "stream",
     "text": [
      "[[ 0  0  0 ..., 25 23 77]\n",
      " [ 0  0  0 ..., 17  5 30]\n",
      " [ 0  0  0 ..., 25 23 77]\n",
      " ..., \n",
      " [ 0  0  0 ..., 25 23 77]\n",
      " [ 0  0  0 ..., 27 31 77]\n",
      " [ 0  0  0 ..., 25 30 83]]\n",
      "Matrix dimensions of X:  (9998, 100) Vector dimension of target:  (9998,)\n"
     ]
    }
   ],
   "source": [
    "# Initial Data Preparation URL\n",
    "\n",
    "# Step 1: Convert raw URL string in list of lists where characters that are contained in \"printable\" are stored encoded as integer \n",
    "url_int_tokens = [[printable.index(x) + 1 for x in url if x in printable] for url in df.url]\n",
    "\n",
    "# Step 2: Cut URL string at max_len or pad with zeros if shorter\n",
    "max_len=100\n",
    "X = sequence.pad_sequences(url_int_tokens, maxlen=max_len)\n",
    "print(X)\n",
    "# Step 3: Extract labels form df to numpy array\n",
    "target = np.array(df.malicious)\n",
    "\n",
    "print('Matrix dimensions of X: ', X.shape, 'Vector dimension of target: ', target.shape)"
   ]
  },
  {
   "cell_type": "code",
   "execution_count": 50,
   "metadata": {},
   "outputs": [
    {
     "name": "stdout",
     "output_type": "stream",
     "text": [
      "[18, 30, 30, 26, 78, 77, 77, 33, 33, 33, 76, 16, 11, 13, 15, 12, 25, 25, 21, 75, 22, 25, 17, 2, 19, 24, 76, 13, 25, 23, 77]\n"
     ]
    }
   ],
   "source": [
    "test_url = 'http://www.facebook-log1in.com/'\n",
    "print([printable.index(x)+1 for x in test_url if x in printable])"
   ]
  },
  {
   "cell_type": "code",
   "execution_count": 4,
   "metadata": {
    "collapsed": true
   },
   "outputs": [],
   "source": [
    "# GENERAL get layer dimensions for any model!\n",
    "def print_layers_dims(model):\n",
    "    l_layers = model.layers\n",
    "    # Note None is ALWAYS batch_size\n",
    "    for i in range(len(l_layers)):\n",
    "        print(l_layers[i])\n",
    "        print('Input Shape: ', l_layers[i].input_shape, 'Output Shape: ', l_layers[i].output_shape)\n"
   ]
  },
  {
   "cell_type": "markdown",
   "metadata": {},
   "source": [
    "### Training and Evaluation\n"
   ]
  },
  {
   "cell_type": "code",
   "execution_count": 5,
   "metadata": {
    "collapsed": true
   },
   "outputs": [],
   "source": [
    "# Simple Cross-Validation: Split the data set into training and test data\n",
    "X_train, X_test, target_train, target_test = model_selection.train_test_split(X, target, test_size=0.25, random_state=33)"
   ]
  },
  {
   "cell_type": "markdown",
   "metadata": {},
   "source": [
    "#### Simple LSTM\n",
    "Model features\n",
    "1. LSTM \n",
    "2. Activation function :Sigmoid. \n",
    "3. Loss Function binary_crossentropy\n",
    "4. number of Epochs 5"
   ]
  },
  {
   "cell_type": "code",
   "execution_count": 6,
   "metadata": {
    "collapsed": true
   },
   "outputs": [],
   "source": [
    "## Simple LSTM\n",
    "def simple_lstm(max_len=100, emb_dim=32, max_vocab_len=100, lstm_output_size=32, W_reg=regularizers.l2(1e-4)):\n",
    "    # Input\n",
    "    main_input = Input(shape=(max_len,), dtype='int32', name='main_input')\n",
    "    \n",
    "    # Embedding layer\n",
    "    emb = Embedding(input_dim=max_vocab_len, output_dim=emb_dim, input_length=max_len,\n",
    "                dropout=0.2, W_regularizer=W_reg)(main_input) \n",
    "\n",
    "    \n",
    "    # LSTM layer\n",
    "    lstm = LSTM(lstm_output_size)(emb)\n",
    "    lstm = Dropout(0.5)(lstm)\n",
    "    \n",
    "    # Output layer (last fully connected layer)\n",
    "    output = Dense(1, activation='sigmoid', name='output')(lstm)\n",
    "\n",
    "    # Compile model and define optimizer\n",
    "    model = Model(input=[main_input], output=[output])\n",
    "    \n",
    "    sgd= SGD(lr=0.01, momentum=0.0, decay=0.0, nesterov=False)\n",
    "    \n",
    "    adam = Adam(lr=1e-4, beta_1=0.9, beta_2=0.999, epsilon=1e-08, decay=0.0)\n",
    "    model.compile(optimizer=adam, loss='binary_crossentropy', metrics=['accuracy'])\n",
    "    #model.compile(optimizer=sgd, loss='binary_crossentropy', metrics=['accuracy'])\n",
    "    return model"
   ]
  },
  {
   "cell_type": "code",
   "execution_count": 7,
   "metadata": {},
   "outputs": [
    {
     "name": "stdout",
     "output_type": "stream",
     "text": [
      "Epoch 1/5\n",
      "7498/7498 [==============================] - 48s 6ms/step - loss: 0.6168 - acc: 0.7386\n",
      "Epoch 2/5\n",
      "7498/7498 [==============================] - 50s 7ms/step - loss: 0.5284 - acc: 0.7559\n",
      "Epoch 3/5\n",
      "7498/7498 [==============================] - 49s 7ms/step - loss: 0.4860 - acc: 0.7682\n",
      "Epoch 4/5\n",
      "7498/7498 [==============================] - 48s 6ms/step - loss: 0.4548 - acc: 0.7891\n",
      "Epoch 5/5\n",
      "7498/7498 [==============================] - 49s 6ms/step - loss: 0.4349 - acc: 0.8160\n",
      "2500/2500 [==============================] - 3s 1ms/step\n",
      "\n",
      "Final Cross-Validation Accuracy 0.826 \n",
      "\n",
      "<keras.engine.topology.InputLayer object at 0x1239bc160>\n",
      "Input Shape:  (None, 100) Output Shape:  (None, 100)\n",
      "<keras.layers.embeddings.Embedding object at 0x1239aa550>\n",
      "Input Shape:  (None, 100) Output Shape:  (None, 100, 32)\n",
      "<keras.layers.recurrent.LSTM object at 0x1239bc940>\n",
      "Input Shape:  (None, 100, 32) Output Shape:  (None, 32)\n",
      "<keras.layers.core.Dropout object at 0x1244ac898>\n",
      "Input Shape:  (None, 32) Output Shape:  (None, 32)\n",
      "<keras.layers.core.Dense object at 0x1244acc50>\n",
      "Input Shape:  (None, 32) Output Shape:  (None, 1)\n"
     ]
    }
   ],
   "source": [
    "# Fit model and Cross-Validation, ARCHITECTURE 1 SIMPLE LSTM\n",
    "nb_epoch = 5\n",
    "batch_size = 32\n",
    "\n",
    "model = simple_lstm()\n",
    "model.fit(X_train, target_train, nb_epoch=nb_epoch, batch_size=batch_size)\n",
    "loss, accuracy = model.evaluate(X_test, target_test, verbose=1)\n",
    "print('\\nFinal Cross-Validation Accuracy', accuracy, '\\n')\n",
    "print_layers_dims(model)"
   ]
  },
  {
   "cell_type": "code",
   "execution_count": 8,
   "metadata": {},
   "outputs": [
    {
     "name": "stdout",
     "output_type": "stream",
     "text": [
      "_________________________________________________________________\n",
      "Layer (type)                 Output Shape              Param #   \n",
      "=================================================================\n",
      "main_input (InputLayer)      (None, 100)               0         \n",
      "_________________________________________________________________\n",
      "embedding_1 (Embedding)      (None, 100, 32)           3200      \n",
      "_________________________________________________________________\n",
      "lstm_1 (LSTM)                (None, 32)                8320      \n",
      "_________________________________________________________________\n",
      "dropout_1 (Dropout)          (None, 32)                0         \n",
      "_________________________________________________________________\n",
      "output (Dense)               (None, 1)                 33        \n",
      "=================================================================\n",
      "Total params: 11,553\n",
      "Trainable params: 11,553\n",
      "Non-trainable params: 0\n",
      "_________________________________________________________________\n"
     ]
    }
   ],
   "source": [
    "model.summary()"
   ]
  },
  {
   "cell_type": "markdown",
   "metadata": {
    "collapsed": true
   },
   "source": [
    "### With inputs from Professor used a fully connected CNN "
   ]
  },
  {
   "cell_type": "code",
   "execution_count": 12,
   "metadata": {
    "collapsed": true
   },
   "outputs": [],
   "source": [
    "def conv_fully(max_len=100, emb_dim=32, max_vocab_len=100, W_reg=regularizers.l2(1e-4)):\n",
    "    # Input\n",
    "    main_input = Input(shape=(max_len,), dtype='int32', name='main_input')\n",
    "    # Embedding layer\n",
    "    emb = Embedding(input_dim=max_vocab_len, output_dim=emb_dim, input_length=max_len,\n",
    "                W_regularizer=W_reg)(main_input) \n",
    "    emb = Dropout(0.25)(emb)\n",
    "\n",
    "    def sum_1d(X):\n",
    "        return K.sum(X, axis=1)\n",
    "    def get_conv_layer(emb, kernel_size=5, filters=256):\n",
    "        # Conv layer\n",
    "        conv = Convolution1D(kernel_size=kernel_size, filters=filters, \\\n",
    "                     border_mode='same')(emb)\n",
    "        conv = ELU()(conv)\n",
    "\n",
    "        conv = Lambda(sum_1d, output_shape=(filters,))(conv)\n",
    "        #conv = BatchNormalization(mode=0)(conv)\n",
    "        conv = Dropout(0.5)(conv)\n",
    "        return conv\n",
    "        \n",
    "    # Multiple Conv Layers\n",
    "    \n",
    "    # calling custom conv function from above\n",
    "    conv1 = get_conv_layer(emb, kernel_size=2, filters=256)\n",
    "    conv2 = get_conv_layer(emb, kernel_size=3, filters=256)\n",
    "    conv3 = get_conv_layer(emb, kernel_size=4, filters=256)\n",
    "    conv4 = get_conv_layer(emb, kernel_size=5, filters=256)\n",
    "\n",
    "    # Fully Connected Layers\n",
    "    merged = concatenate([conv1,conv2,conv3,conv4], axis=1)\n",
    "\n",
    "    hidden1 = Dense(1024)(merged)\n",
    "    hidden1 = ELU()(hidden1)\n",
    "    hidden1 = BatchNormalization(mode=0)(hidden1)\n",
    "    hidden1 = Dropout(0.5)(hidden1)\n",
    "\n",
    "    hidden2 = Dense(1024)(hidden1)\n",
    "    hidden2 = ELU()(hidden2)\n",
    "    hidden2 = BatchNormalization(mode=0)(hidden2)\n",
    "    hidden2 = Dropout(0.5)(hidden2)\n",
    "    \n",
    "    # Output layer (last fully connected layer)\n",
    "    output = Dense(1, activation='sigmoid', name='output')(hidden2)\n",
    "\n",
    "    # Compile model and define optimizer\n",
    "    model = Model(input=[main_input], output=[output])\n",
    "    adam = Adam(lr=1e-4, beta_1=0.9, beta_2=0.999, epsilon=1e-08, decay=0.0)\n",
    "    model.compile(optimizer=adam, loss='binary_crossentropy', metrics=['accuracy'])\n",
    "    return model"
   ]
  },
  {
   "cell_type": "markdown",
   "metadata": {},
   "source": [
    "### Model Characteristics\n",
    "1. 4 Fully connected layers. \n",
    "2. Activation function used is sigmoid. \n",
    "3. Optimizer in used is Adam\n",
    "4. Loss function in use Binary Cross entropy. \n",
    "5. With  5 Epocs and a batch size of 100  is Final Cross-Validation Accuracy 0.8008"
   ]
  },
  {
   "cell_type": "code",
   "execution_count": 13,
   "metadata": {},
   "outputs": [
    {
     "name": "stdout",
     "output_type": "stream",
     "text": [
      "Epoch 1/5\n",
      "7498/7498 [==============================] - 21s 3ms/step - loss: 0.8857 - acc: 0.5682\n",
      "Epoch 2/5\n",
      "7498/7498 [==============================] - 21s 3ms/step - loss: 0.7109 - acc: 0.6583\n",
      "Epoch 3/5\n",
      "7498/7498 [==============================] - 21s 3ms/step - loss: 0.6300 - acc: 0.7118\n",
      "Epoch 4/5\n",
      "7498/7498 [==============================] - 22s 3ms/step - loss: 0.6044 - acc: 0.7327\n",
      "Epoch 5/5\n",
      "7498/7498 [==============================] - 21s 3ms/step - loss: 0.5704 - acc: 0.7537\n",
      "2500/2500 [==============================] - 2s 780us/step\n",
      "\n",
      "Final Cross-Validation Accuracy 0.806 \n",
      "\n",
      "<keras.engine.topology.InputLayer object at 0x1294184e0>\n",
      "Input Shape:  (None, 100) Output Shape:  (None, 100)\n",
      "<keras.layers.embeddings.Embedding object at 0x1294185f8>\n",
      "Input Shape:  (None, 100) Output Shape:  (None, 100, 32)\n",
      "<keras.layers.core.Dropout object at 0x129418780>\n",
      "Input Shape:  (None, 100, 32) Output Shape:  (None, 100, 32)\n",
      "<keras.layers.convolutional.Conv1D object at 0x1294183c8>\n",
      "Input Shape:  (None, 100, 32) Output Shape:  (None, 100, 256)\n",
      "<keras.layers.convolutional.Conv1D object at 0x1293c2b00>\n",
      "Input Shape:  (None, 100, 32) Output Shape:  (None, 100, 256)\n",
      "<keras.layers.convolutional.Conv1D object at 0x1295428d0>\n",
      "Input Shape:  (None, 100, 32) Output Shape:  (None, 100, 256)\n",
      "<keras.layers.convolutional.Conv1D object at 0x129451ef0>\n",
      "Input Shape:  (None, 100, 32) Output Shape:  (None, 100, 256)\n",
      "<keras.layers.advanced_activations.ELU object at 0x12941da90>\n",
      "Input Shape:  (None, 100, 256) Output Shape:  (None, 100, 256)\n",
      "<keras.layers.advanced_activations.ELU object at 0x1293fd978>\n",
      "Input Shape:  (None, 100, 256) Output Shape:  (None, 100, 256)\n",
      "<keras.layers.advanced_activations.ELU object at 0x1294b1ac8>\n",
      "Input Shape:  (None, 100, 256) Output Shape:  (None, 100, 256)\n",
      "<keras.layers.advanced_activations.ELU object at 0x129451fd0>\n",
      "Input Shape:  (None, 100, 256) Output Shape:  (None, 100, 256)\n",
      "<keras.layers.core.Lambda object at 0x1293abc88>\n",
      "Input Shape:  (None, 100, 256) Output Shape:  (None, 256)\n",
      "<keras.layers.core.Lambda object at 0x1293d5c88>\n",
      "Input Shape:  (None, 100, 256) Output Shape:  (None, 256)\n",
      "<keras.layers.core.Lambda object at 0x12943e550>\n",
      "Input Shape:  (None, 100, 256) Output Shape:  (None, 256)\n",
      "<keras.layers.core.Lambda object at 0x12958b978>\n",
      "Input Shape:  (None, 100, 256) Output Shape:  (None, 256)\n",
      "<keras.layers.core.Dropout object at 0x11b393be0>\n",
      "Input Shape:  (None, 256) Output Shape:  (None, 256)\n",
      "<keras.layers.core.Dropout object at 0x1295429b0>\n",
      "Input Shape:  (None, 256) Output Shape:  (None, 256)\n",
      "<keras.layers.core.Dropout object at 0x129451160>\n",
      "Input Shape:  (None, 256) Output Shape:  (None, 256)\n",
      "<keras.layers.core.Dropout object at 0x1295a1780>\n",
      "Input Shape:  (None, 256) Output Shape:  (None, 256)\n",
      "<keras.layers.merge.Concatenate object at 0x1295a1da0>\n",
      "Input Shape:  [(None, 256), (None, 256), (None, 256), (None, 256)] Output Shape:  (None, 1024)\n",
      "<keras.layers.core.Dense object at 0x1295a14e0>\n",
      "Input Shape:  (None, 1024) Output Shape:  (None, 1024)\n",
      "<keras.layers.advanced_activations.ELU object at 0x1295dde10>\n",
      "Input Shape:  (None, 1024) Output Shape:  (None, 1024)\n",
      "<keras.layers.normalization.BatchNormalization object at 0x1295dd978>\n",
      "Input Shape:  (None, 1024) Output Shape:  (None, 1024)\n",
      "<keras.layers.core.Dropout object at 0x1295f6e48>\n",
      "Input Shape:  (None, 1024) Output Shape:  (None, 1024)\n",
      "<keras.layers.core.Dense object at 0x12960a240>\n",
      "Input Shape:  (None, 1024) Output Shape:  (None, 1024)\n",
      "<keras.layers.advanced_activations.ELU object at 0x12968bef0>\n",
      "Input Shape:  (None, 1024) Output Shape:  (None, 1024)\n",
      "<keras.layers.normalization.BatchNormalization object at 0x1296a27b8>\n",
      "Input Shape:  (None, 1024) Output Shape:  (None, 1024)\n",
      "<keras.layers.core.Dropout object at 0x1296b7e48>\n",
      "Input Shape:  (None, 1024) Output Shape:  (None, 1024)\n",
      "<keras.layers.core.Dense object at 0x1296cb240>\n",
      "Input Shape:  (None, 1024) Output Shape:  (None, 1)\n"
     ]
    }
   ],
   "source": [
    "# Fit model and Cross-Validation, ARCHITECTURE 3 CONV + FULLY CONNECTED\n",
    "epochs = 5\n",
    "batch_size = 32\n",
    "\n",
    "model = conv_fully()\n",
    "model.fit(X_train, target_train, epochs=epochs, batch_size=batch_size)\n",
    "loss, accuracy = model.evaluate(X_test, target_test, verbose=1)\n",
    "\n",
    "print('\\nFinal Cross-Validation Accuracy', accuracy, '\\n')\n",
    "print_layers_dims(model)"
   ]
  },
  {
   "cell_type": "code",
   "execution_count": 14,
   "metadata": {},
   "outputs": [
    {
     "name": "stdout",
     "output_type": "stream",
     "text": [
      "__________________________________________________________________________________________________\n",
      "Layer (type)                    Output Shape         Param #     Connected to                     \n",
      "==================================================================================================\n",
      "main_input (InputLayer)         (None, 100)          0                                            \n",
      "__________________________________________________________________________________________________\n",
      "embedding_2 (Embedding)         (None, 100, 32)      3200        main_input[0][0]                 \n",
      "__________________________________________________________________________________________________\n",
      "dropout_2 (Dropout)             (None, 100, 32)      0           embedding_2[0][0]                \n",
      "__________________________________________________________________________________________________\n",
      "conv1d_1 (Conv1D)               (None, 100, 256)     16640       dropout_2[0][0]                  \n",
      "__________________________________________________________________________________________________\n",
      "conv1d_2 (Conv1D)               (None, 100, 256)     24832       dropout_2[0][0]                  \n",
      "__________________________________________________________________________________________________\n",
      "conv1d_3 (Conv1D)               (None, 100, 256)     33024       dropout_2[0][0]                  \n",
      "__________________________________________________________________________________________________\n",
      "conv1d_4 (Conv1D)               (None, 100, 256)     41216       dropout_2[0][0]                  \n",
      "__________________________________________________________________________________________________\n",
      "elu_1 (ELU)                     (None, 100, 256)     0           conv1d_1[0][0]                   \n",
      "__________________________________________________________________________________________________\n",
      "elu_2 (ELU)                     (None, 100, 256)     0           conv1d_2[0][0]                   \n",
      "__________________________________________________________________________________________________\n",
      "elu_3 (ELU)                     (None, 100, 256)     0           conv1d_3[0][0]                   \n",
      "__________________________________________________________________________________________________\n",
      "elu_4 (ELU)                     (None, 100, 256)     0           conv1d_4[0][0]                   \n",
      "__________________________________________________________________________________________________\n",
      "lambda_1 (Lambda)               (None, 256)          0           elu_1[0][0]                      \n",
      "__________________________________________________________________________________________________\n",
      "lambda_2 (Lambda)               (None, 256)          0           elu_2[0][0]                      \n",
      "__________________________________________________________________________________________________\n",
      "lambda_3 (Lambda)               (None, 256)          0           elu_3[0][0]                      \n",
      "__________________________________________________________________________________________________\n",
      "lambda_4 (Lambda)               (None, 256)          0           elu_4[0][0]                      \n",
      "__________________________________________________________________________________________________\n",
      "dropout_3 (Dropout)             (None, 256)          0           lambda_1[0][0]                   \n",
      "__________________________________________________________________________________________________\n",
      "dropout_4 (Dropout)             (None, 256)          0           lambda_2[0][0]                   \n",
      "__________________________________________________________________________________________________\n",
      "dropout_5 (Dropout)             (None, 256)          0           lambda_3[0][0]                   \n",
      "__________________________________________________________________________________________________\n",
      "dropout_6 (Dropout)             (None, 256)          0           lambda_4[0][0]                   \n",
      "__________________________________________________________________________________________________\n",
      "concatenate_1 (Concatenate)     (None, 1024)         0           dropout_3[0][0]                  \n",
      "                                                                 dropout_4[0][0]                  \n",
      "                                                                 dropout_5[0][0]                  \n",
      "                                                                 dropout_6[0][0]                  \n",
      "__________________________________________________________________________________________________\n",
      "dense_1 (Dense)                 (None, 1024)         1049600     concatenate_1[0][0]              \n",
      "__________________________________________________________________________________________________\n",
      "elu_5 (ELU)                     (None, 1024)         0           dense_1[0][0]                    \n",
      "__________________________________________________________________________________________________\n",
      "batch_normalization_1 (BatchNor (None, 1024)         4096        elu_5[0][0]                      \n",
      "__________________________________________________________________________________________________\n",
      "dropout_7 (Dropout)             (None, 1024)         0           batch_normalization_1[0][0]      \n",
      "__________________________________________________________________________________________________\n",
      "dense_2 (Dense)                 (None, 1024)         1049600     dropout_7[0][0]                  \n",
      "__________________________________________________________________________________________________\n",
      "elu_6 (ELU)                     (None, 1024)         0           dense_2[0][0]                    \n",
      "__________________________________________________________________________________________________\n",
      "batch_normalization_2 (BatchNor (None, 1024)         4096        elu_6[0][0]                      \n",
      "__________________________________________________________________________________________________\n",
      "dropout_8 (Dropout)             (None, 1024)         0           batch_normalization_2[0][0]      \n",
      "__________________________________________________________________________________________________\n",
      "output (Dense)                  (None, 1)            1025        dropout_8[0][0]                  \n",
      "==================================================================================================\n",
      "Total params: 2,227,329\n",
      "Trainable params: 2,223,233\n",
      "Non-trainable params: 4,096\n",
      "__________________________________________________________________________________________________\n"
     ]
    }
   ],
   "source": [
    "model.summary()"
   ]
  },
  {
   "cell_type": "code",
   "execution_count": 15,
   "metadata": {
    "collapsed": true
   },
   "outputs": [],
   "source": [
    "# GENERAL save model to disk function!\n",
    "def save_model(fileModelJSON,fileWeights):\n",
    "    #print(\"Saving model to disk: \",fileModelJSON,\"and\",fileWeights)\n",
    "    #have h5py installed\n",
    "    if Path(fileModelJSON).is_file():\n",
    "        os.remove(fileModelJSON)\n",
    "    json_string = model.to_json()\n",
    "    with open(fileModelJSON,'w' ) as f:\n",
    "        json.dump(json_string, f)\n",
    "    if Path(fileWeights).is_file():\n",
    "        os.remove(fileWeights)\n",
    "    model.save_weights(fileWeights)\n",
    "    "
   ]
  },
  {
   "cell_type": "code",
   "execution_count": 16,
   "metadata": {},
   "outputs": [
    {
     "name": "stdout",
     "output_type": "stream",
     "text": [
      "<keras.engine.topology.InputLayer object at 0x1294184e0>\n",
      "Input Shape:  (None, 100) Output Shape:  (None, 100)\n",
      "<keras.layers.embeddings.Embedding object at 0x1294185f8>\n",
      "Input Shape:  (None, 100) Output Shape:  (None, 100, 32)\n",
      "<keras.layers.core.Dropout object at 0x129418780>\n",
      "Input Shape:  (None, 100, 32) Output Shape:  (None, 100, 32)\n",
      "<keras.layers.convolutional.Conv1D object at 0x1294183c8>\n",
      "Input Shape:  (None, 100, 32) Output Shape:  (None, 100, 256)\n",
      "<keras.layers.convolutional.Conv1D object at 0x1293c2b00>\n",
      "Input Shape:  (None, 100, 32) Output Shape:  (None, 100, 256)\n",
      "<keras.layers.convolutional.Conv1D object at 0x1295428d0>\n",
      "Input Shape:  (None, 100, 32) Output Shape:  (None, 100, 256)\n",
      "<keras.layers.convolutional.Conv1D object at 0x129451ef0>\n",
      "Input Shape:  (None, 100, 32) Output Shape:  (None, 100, 256)\n",
      "<keras.layers.advanced_activations.ELU object at 0x12941da90>\n",
      "Input Shape:  (None, 100, 256) Output Shape:  (None, 100, 256)\n",
      "<keras.layers.advanced_activations.ELU object at 0x1293fd978>\n",
      "Input Shape:  (None, 100, 256) Output Shape:  (None, 100, 256)\n",
      "<keras.layers.advanced_activations.ELU object at 0x1294b1ac8>\n",
      "Input Shape:  (None, 100, 256) Output Shape:  (None, 100, 256)\n",
      "<keras.layers.advanced_activations.ELU object at 0x129451fd0>\n",
      "Input Shape:  (None, 100, 256) Output Shape:  (None, 100, 256)\n",
      "<keras.layers.core.Lambda object at 0x1293abc88>\n",
      "Input Shape:  (None, 100, 256) Output Shape:  (None, 256)\n",
      "<keras.layers.core.Lambda object at 0x1293d5c88>\n",
      "Input Shape:  (None, 100, 256) Output Shape:  (None, 256)\n",
      "<keras.layers.core.Lambda object at 0x12943e550>\n",
      "Input Shape:  (None, 100, 256) Output Shape:  (None, 256)\n",
      "<keras.layers.core.Lambda object at 0x12958b978>\n",
      "Input Shape:  (None, 100, 256) Output Shape:  (None, 256)\n",
      "<keras.layers.core.Dropout object at 0x11b393be0>\n",
      "Input Shape:  (None, 256) Output Shape:  (None, 256)\n",
      "<keras.layers.core.Dropout object at 0x1295429b0>\n",
      "Input Shape:  (None, 256) Output Shape:  (None, 256)\n",
      "<keras.layers.core.Dropout object at 0x129451160>\n",
      "Input Shape:  (None, 256) Output Shape:  (None, 256)\n",
      "<keras.layers.core.Dropout object at 0x1295a1780>\n",
      "Input Shape:  (None, 256) Output Shape:  (None, 256)\n",
      "<keras.layers.merge.Concatenate object at 0x1295a1da0>\n",
      "Input Shape:  [(None, 256), (None, 256), (None, 256), (None, 256)] Output Shape:  (None, 1024)\n",
      "<keras.layers.core.Dense object at 0x1295a14e0>\n",
      "Input Shape:  (None, 1024) Output Shape:  (None, 1024)\n",
      "<keras.layers.advanced_activations.ELU object at 0x1295dde10>\n",
      "Input Shape:  (None, 1024) Output Shape:  (None, 1024)\n",
      "<keras.layers.normalization.BatchNormalization object at 0x1295dd978>\n",
      "Input Shape:  (None, 1024) Output Shape:  (None, 1024)\n",
      "<keras.layers.core.Dropout object at 0x1295f6e48>\n",
      "Input Shape:  (None, 1024) Output Shape:  (None, 1024)\n",
      "<keras.layers.core.Dense object at 0x12960a240>\n",
      "Input Shape:  (None, 1024) Output Shape:  (None, 1024)\n",
      "<keras.layers.advanced_activations.ELU object at 0x12968bef0>\n",
      "Input Shape:  (None, 1024) Output Shape:  (None, 1024)\n",
      "<keras.layers.normalization.BatchNormalization object at 0x1296a27b8>\n",
      "Input Shape:  (None, 1024) Output Shape:  (None, 1024)\n",
      "<keras.layers.core.Dropout object at 0x1296b7e48>\n",
      "Input Shape:  (None, 1024) Output Shape:  (None, 1024)\n",
      "<keras.layers.core.Dense object at 0x1296cb240>\n",
      "Input Shape:  (None, 1024) Output Shape:  (None, 1)\n"
     ]
    }
   ],
   "source": [
    "model_name = \"deeplearning_1DConv\"\n",
    "save_model(path + model_name + \".json\", path + model_name + \".h5\")\n",
    "#model = load_model(path + model_name + \".json\", path + model_name + \".h5\")\n",
    "print_layers_dims(model)"
   ]
  },
  {
   "cell_type": "markdown",
   "metadata": {},
   "source": [
    "### Model 3 Bidelirectional LSTM and RNN"
   ]
  },
  {
   "cell_type": "code",
   "execution_count": 17,
   "metadata": {},
   "outputs": [
    {
     "name": "stdout",
     "output_type": "stream",
     "text": [
      "__________________________________________________________________________________________________\n",
      "Layer (type)                    Output Shape         Param #     Connected to                     \n",
      "==================================================================================================\n",
      "input_1 (InputLayer)            (None, 100)          0                                            \n",
      "__________________________________________________________________________________________________\n",
      "lambda_5 (Lambda)               (None, 100, 71)      0           input_1[0][0]                    \n",
      "__________________________________________________________________________________________________\n",
      "conv1d_5 (Conv1D)               (None, 96, 128)      45568       lambda_5[0][0]                   \n",
      "__________________________________________________________________________________________________\n",
      "dropout_9 (Dropout)             (None, 96, 128)      0           conv1d_5[0][0]                   \n",
      "__________________________________________________________________________________________________\n",
      "max_pooling1d_1 (MaxPooling1D)  (None, 48, 128)      0           dropout_9[0][0]                  \n",
      "__________________________________________________________________________________________________\n",
      "conv1d_6 (Conv1D)               (None, 46, 196)      75460       max_pooling1d_1[0][0]            \n",
      "__________________________________________________________________________________________________\n",
      "dropout_10 (Dropout)            (None, 46, 196)      0           conv1d_6[0][0]                   \n",
      "__________________________________________________________________________________________________\n",
      "max_pooling1d_2 (MaxPooling1D)  (None, 23, 196)      0           dropout_10[0][0]                 \n",
      "__________________________________________________________________________________________________\n",
      "conv1d_7 (Conv1D)               (None, 21, 256)      150784      max_pooling1d_2[0][0]            \n",
      "__________________________________________________________________________________________________\n",
      "dropout_11 (Dropout)            (None, 21, 256)      0           conv1d_7[0][0]                   \n",
      "__________________________________________________________________________________________________\n",
      "max_pooling1d_3 (MaxPooling1D)  (None, 10, 256)      0           dropout_11[0][0]                 \n",
      "__________________________________________________________________________________________________\n",
      "bidirectional_1 (Bidirectional) (None, 10, 200)      285600      max_pooling1d_3[0][0]            \n",
      "__________________________________________________________________________________________________\n",
      "time_distributed_1 (TimeDistrib (None, 10, 1)        201         bidirectional_1[0][0]            \n",
      "__________________________________________________________________________________________________\n",
      "flatten_1 (Flatten)             (None, 10)           0           time_distributed_1[0][0]         \n",
      "__________________________________________________________________________________________________\n",
      "activation_1 (Activation)       (None, 10)           0           flatten_1[0][0]                  \n",
      "__________________________________________________________________________________________________\n",
      "repeat_vector_1 (RepeatVector)  (None, 200, 10)      0           activation_1[0][0]               \n",
      "__________________________________________________________________________________________________\n",
      "permute_1 (Permute)             (None, 10, 200)      0           repeat_vector_1[0][0]            \n",
      "__________________________________________________________________________________________________\n",
      "multiply_1 (Multiply)           (None, 10, 200)      0           bidirectional_1[0][0]            \n",
      "                                                                 permute_1[0][0]                  \n",
      "__________________________________________________________________________________________________\n",
      "lambda_6 (Lambda)               (None, 200)          0           multiply_1[0][0]                 \n",
      "__________________________________________________________________________________________________\n",
      "dropout_12 (Dropout)            (None, 200)          0           lambda_6[0][0]                   \n",
      "__________________________________________________________________________________________________\n",
      "activation_2 (Activation)       (None, 200)          0           dropout_12[0][0]                 \n",
      "__________________________________________________________________________________________________\n",
      "dense_4 (Dense)                 (None, 2)            402         activation_2[0][0]               \n",
      "__________________________________________________________________________________________________\n",
      "activation_3 (Activation)       (None, 2)            0           dense_4[0][0]                    \n",
      "==================================================================================================\n",
      "Total params: 558,015\n",
      "Trainable params: 558,015\n",
      "Non-trainable params: 0\n",
      "__________________________________________________________________________________________________\n"
     ]
    }
   ],
   "source": [
    "from keras.layers import Layer,initializers,Flatten,RepeatVector,Permute\n",
    "from keras.layers.merge import Multiply\n",
    "    \n",
    "def binarize(x, sz=71):\n",
    "    return tf.to_float(tf.one_hot(x, sz, on_value=1, off_value=0, axis=-1))\n",
    "\n",
    "\n",
    "def binarize_outshape(in_shape):\n",
    "    return in_shape[0], in_shape[1], 71\n",
    "filter_length = [5, 3, 3]\n",
    "nb_filter = [128, 196, 256 ]\n",
    "pool_length = 2\n",
    "\n",
    "# sentence input\n",
    "in_sentence = Input(shape=(max_len,), dtype='int64')\n",
    "# char indices to one hot matrix, 1D sequence to 2D \n",
    "embedded = Lambda(binarize, output_shape=binarize_outshape)(in_sentence)\n",
    "# embedded: encodes sentence\n",
    "for i in range(len(nb_filter)):\n",
    "    embedded = Conv1D(filters=nb_filter[i],\n",
    "                      kernel_size=filter_length[i],\n",
    "                      padding='valid',\n",
    "                      activation='relu',\n",
    "                      kernel_initializer='glorot_normal',\n",
    "                      strides=1)(embedded)\n",
    "    embedded = Dropout(0.2)(embedded)\n",
    "    embedded = MaxPooling1D(pool_size=pool_length)(embedded)\n",
    "bi_lstm_sent = \\\n",
    "    Bidirectional(LSTM(100, return_sequences=True, dropout=0.15, recurrent_dropout=0.15, implementation=0))(embedded)\n",
    "\n",
    "\n",
    "    \n",
    "# compute importance for each step\n",
    "attention = TimeDistributed(Dense(1, activation='tanh'))(bi_lstm_sent) \n",
    "attention = Flatten()(attention)\n",
    "attention = Activation('softmax')(attention)\n",
    "attention = RepeatVector(200)(attention)\n",
    "attention = Permute([2, 1])(attention)    \n",
    "    \n",
    "\n",
    "# apply the attention \n",
    "sent_representation = Multiply()([bi_lstm_sent, attention])\n",
    "sent_representation = Lambda(lambda xin: K.sum(xin, axis=1))(sent_representation)\n",
    "    \n",
    "    \n",
    "# sent_encode = merge([forward_sent, backward_sent], mode='concat', concat_axis=-1)\n",
    "sent_encode = Dropout(0.4)(sent_representation)\n",
    "sent_encode = Activation(\"relu\")(sent_encode)\n",
    "sent_encode = Dense(units=2)(sent_encode)\n",
    "sent_encode = Activation(\"softmax\")(sent_encode)\n",
    "\n",
    "# sentence encoder\n",
    "model = Model(inputs=in_sentence, outputs=sent_encode)\n",
    "\n",
    "model.summary()\n",
    "#model = utils.make_parallel(model, 2)\n"
   ]
  },
  {
   "cell_type": "code",
   "execution_count": 18,
   "metadata": {
    "collapsed": true
   },
   "outputs": [],
   "source": [
    "adam = Adam()\n",
    "#model.compile(loss='sparse_categorical_crossentropy', optimizer=adam, metrics=['sparse_categorical_accuracy'])\n",
    "#model.compile(loss='binary_crossentropy', optimizer=adam, metrics=['accuracy'])\n",
    "model.compile(loss='sparse_categorical_crossentropy', optimizer=adam, metrics=['accuracy'])\n"
   ]
  },
  {
   "cell_type": "code",
   "execution_count": 20,
   "metadata": {},
   "outputs": [
    {
     "name": "stdout",
     "output_type": "stream",
     "text": [
      "Epoch 1/5\n",
      "7498/7498 [==============================] - 22s 3ms/step - loss: 0.4843 - acc: 0.7787\n",
      "Epoch 2/5\n",
      "7498/7498 [==============================] - 21s 3ms/step - loss: 0.4253 - acc: 0.8078\n",
      "Epoch 3/5\n",
      "7498/7498 [==============================] - 22s 3ms/step - loss: 0.3539 - acc: 0.8528\n",
      "Epoch 4/5\n",
      "7498/7498 [==============================] - 22s 3ms/step - loss: 0.2942 - acc: 0.8864\n",
      "Epoch 5/5\n",
      "7498/7498 [==============================] - 22s 3ms/step - loss: 0.2409 - acc: 0.9098\n",
      "2500/2500 [==============================] - 2s 863us/step\n",
      "\n",
      "Final Cross-Validation Accuracy 0.8456 \n",
      "\n"
     ]
    }
   ],
   "source": [
    "hist=model.fit(X_train, target_train, epochs=5, batch_size=32)\n",
    "loss, accuracy = model.evaluate(X_test, target_test, verbose=1)\n",
    "\n",
    "print('\\nFinal Cross-Validation Accuracy', accuracy, '\\n')\n"
   ]
  },
  {
   "cell_type": "markdown",
   "metadata": {},
   "source": [
    "### Results"
   ]
  },
  {
   "cell_type": "code",
   "execution_count": 21,
   "metadata": {},
   "outputs": [
    {
     "data": {
      "image/png": "[encoded data removed]",
      "text/plain": [
       "<matplotlib.figure.Figure at 0x1312e0f28>"
      ]
     },
     "metadata": {},
     "output_type": "display_data"
    }
   ],
   "source": [
    "from sklearn import metrics\n",
    "pred = model.predict(X_test)\n",
    "fpr, tpr, thresholds = metrics.roc_curve(target_test, pred[:,1], pos_label=1)\n",
    "auc_m = metrics.auc(fpr, tpr)\n",
    "lw = 2\n",
    "plt.plot(fpr, tpr, color='red',lw=lw, label='ROC curve (area = %0.4f)' % auc_m)\n",
    "plt.plot([0, 1], [0, 1], color='navy', lw=lw, linestyle='--')\n",
    "plt.xlim([0.0, 1.0])\n",
    "plt.ylim([0.0, 1.05])\n",
    "plt.xlabel('False Positive Rate')\n",
    "plt.ylabel('True Positive Rate')\n",
    "plt.title('ROC - URL detection DL')\n",
    "plt.legend(loc=\"lower right\")\n",
    "plt.show()"
   ]
  },
  {
   "cell_type": "code",
   "execution_count": 22,
   "metadata": {},
   "outputs": [
    {
     "name": "stdout",
     "output_type": "stream",
     "text": [
      "f1 =  0.659010600707 acc =  0.8456 auc= 0.863376439579\n"
     ]
    }
   ],
   "source": [
    "from sklearn.metrics import confusion_matrix\n",
    "f1 = metrics.f1_score(target_test, pred[:,1]>0.5)\n",
    "acc = metrics.accuracy_score(target_test, pred[:,1]>0.5)\n",
    "print (\"f1 = \", f1, \"acc = \", acc, \"auc=\" , auc_m)\n",
    "#print (\"test confusion matrix\\n\" , confusion_matrix(target_test, pred[:,1]>0.5))"
   ]
  },
  {
   "cell_type": "markdown",
   "metadata": {},
   "source": [
    "### Predicton"
   ]
  },
  {
   "cell_type": "code",
   "execution_count": null,
   "metadata": {
    "collapsed": true
   },
   "outputs": [],
   "source": [
    "X_predict_o = ['wikipedia.com',\n",
    "             'google.com',\n",
    "             'pakistanifacebookforever.com',\n",
    "             'www.radsport-voggel.de',\n",
    "             'ahrenhei.without-transfer.ru',\n",
    "             'www.itidea.it',\n",
    "             'stackoverflow.com',\n",
    "             'dzone.com',\n",
    "            'keras.io',\n",
    "             'www.tiktik.co.il']"
   ]
  },
  {
   "cell_type": "code",
   "execution_count": 32,
   "metadata": {},
   "outputs": [
    {
     "name": "stdout",
     "output_type": "stream",
     "text": [
      "Matrix dimensions of X:  (1, 100) Vector dimension of target:  (9998,)\n"
     ]
    }
   ],
   "source": [
    "# Initial Data Preparation URL\n",
    "\n",
    "# Step 1: Convert raw URL string in list of lists where characters that are contained in \"printable\" are stored encoded as integer \n",
    "url_int_tokens = [[printable.index(x) + 1 for x in url if x in printable] for url in X_predict_o]\n",
    "\n",
    "# Step 2: Cut URL string at max_len or pad with zeros if shorter\n",
    "max_len=100\n",
    "X1 = sequence.pad_sequences(url_int_tokens, maxlen=max_len)\n",
    "#print(X1)\n",
    "# Step 3: Extract labels form df to numpy array\n",
    "target = np.array(df.malicious)\n",
    "\n",
    "print('Matrix dimensions of X: ', X.shape, 'Vector dimension of target: ', target.shape)"
   ]
  },
  {
   "cell_type": "code",
   "execution_count": 31,
   "metadata": {},
   "outputs": [
    {
     "data": {
      "text/html": [
       "<div>\n",
       "<style>\n",
       "    .dataframe thead tr:only-child th {\n",
       "        text-align: right;\n",
       "    }\n",
       "\n",
       "    .dataframe thead th {\n",
       "        text-align: left;\n",
       "    }\n",
       "\n",
       "    .dataframe tbody tr th {\n",
       "        vertical-align: top;\n",
       "    }\n",
       "</style>\n",
       "<table border=\"1\" class=\"dataframe\">\n",
       "  <thead>\n",
       "    <tr style=\"text-align: right;\">\n",
       "      <th></th>\n",
       "      <th>site</th>\n",
       "      <th>score</th>\n",
       "      <th>prediction</th>\n",
       "    </tr>\n",
       "  </thead>\n",
       "  <tbody>\n",
       "    <tr>\n",
       "      <th>0</th>\n",
       "      <td>wikipedia.com</td>\n",
       "      <td>0.007914</td>\n",
       "      <td>False</td>\n",
       "    </tr>\n",
       "    <tr>\n",
       "      <th>1</th>\n",
       "      <td>google.com</td>\n",
       "      <td>0.007872</td>\n",
       "      <td>False</td>\n",
       "    </tr>\n",
       "    <tr>\n",
       "      <th>2</th>\n",
       "      <td>pakistanifacebookforever.com</td>\n",
       "      <td>0.064834</td>\n",
       "      <td>False</td>\n",
       "    </tr>\n",
       "    <tr>\n",
       "      <th>3</th>\n",
       "      <td>www.radsport-voggel.de</td>\n",
       "      <td>0.008443</td>\n",
       "      <td>False</td>\n",
       "    </tr>\n",
       "    <tr>\n",
       "      <th>4</th>\n",
       "      <td>ahrenhei.without-transfer.ru</td>\n",
       "      <td>0.042111</td>\n",
       "      <td>False</td>\n",
       "    </tr>\n",
       "    <tr>\n",
       "      <th>5</th>\n",
       "      <td>www.itidea.it</td>\n",
       "      <td>0.008915</td>\n",
       "      <td>False</td>\n",
       "    </tr>\n",
       "    <tr>\n",
       "      <th>6</th>\n",
       "      <td>stackoverflow.com</td>\n",
       "      <td>0.009805</td>\n",
       "      <td>False</td>\n",
       "    </tr>\n",
       "    <tr>\n",
       "      <th>7</th>\n",
       "      <td>dzone.com</td>\n",
       "      <td>0.007869</td>\n",
       "      <td>False</td>\n",
       "    </tr>\n",
       "    <tr>\n",
       "      <th>8</th>\n",
       "      <td>keras.io</td>\n",
       "      <td>0.007861</td>\n",
       "      <td>False</td>\n",
       "    </tr>\n",
       "    <tr>\n",
       "      <th>9</th>\n",
       "      <td>www.tiktik.co.il</td>\n",
       "      <td>0.009828</td>\n",
       "      <td>False</td>\n",
       "    </tr>\n",
       "  </tbody>\n",
       "</table>\n",
       "</div>"
      ],
      "text/plain": [
       "                           site     score prediction\n",
       "0                 wikipedia.com  0.007914      False\n",
       "1                    google.com  0.007872      False\n",
       "2  pakistanifacebookforever.com  0.064834      False\n",
       "3        www.radsport-voggel.de  0.008443      False\n",
       "4  ahrenhei.without-transfer.ru  0.042111      False\n",
       "5                 www.itidea.it  0.008915      False\n",
       "6             stackoverflow.com  0.009805      False\n",
       "7                     dzone.com  0.007869      False\n",
       "8                      keras.io  0.007861      False\n",
       "9              www.tiktik.co.il  0.009828      False"
      ]
     },
     "execution_count": 31,
     "metadata": {},
     "output_type": "execute_result"
    }
   ],
   "source": [
    "prd1 = model.predict(X1)\n",
    "dfn = pd.DataFrame(columns=('site', 'score', 'prediction'))\n",
    "pd.set_option('max_colwidth',500)    \n",
    "for i in range(len(X_predict_o)):\n",
    "    a = [X_predict_o[i],  prd1[i,1],prd1[i,1]>0.5 ]\n",
    "    dfn.loc[i] = a\n",
    "dfn\n"
   ]
  },
  {
   "cell_type": "markdown",
   "metadata": {},
   "source": [
    "The text in the document by Lakshmi Peri is licensed under CC BY 3.0 https://creativecommons.org/licenses/by/3.0/us/"
   ]
  }
 ],
 "metadata": {
  "kernelspec": {
   "display_name": "Python 3",
   "language": "python",
   "name": "python3"
  },
  "language_info": {
   "codemirror_mode": {
    "name": "ipython",
    "version": 3
   },
   "file_extension": ".py",
   "mimetype": "text/x-python",
   "name": "python",
   "nbconvert_exporter": "python",
   "pygments_lexer": "ipython3",
   "version": "3.6.1"
  }
 },
 "nbformat": 4,
 "nbformat_minor": 2
}
